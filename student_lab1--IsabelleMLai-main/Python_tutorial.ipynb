{
 "cells": [
  {
   "cell_type": "markdown",
   "metadata": {
    "colab_type": "text",
    "id": "gZB6B4X5Riud"
   },
   "source": [
    "# 1. Introduction\n",
    "The purpose of this notebook is to introduce and go over the basics of the Python programming language. We'll be looking at Python from the viewpoint of someone who has familiarity with programming already in a lower-level language like C or C++. This notebook was adapted from [Justin Johnson's Intro to Python tutorial](http://cs231n.github.io/python-numpy-tutorial/#python-containers) and [The Python Tutorial](https://docs.python.org/3/tutorial/index.html).\n",
    "\n",
    "\n",
    "\n"
   ]
  },
  {
   "cell_type": "code",
   "execution_count": 1,
   "metadata": {},
   "outputs": [
    {
     "name": "stdout",
     "output_type": "stream",
     "text": [
      "hi\n"
     ]
    }
   ],
   "source": [
    "print('hi')"
   ]
  },
  {
   "cell_type": "markdown",
   "metadata": {
    "colab_type": "text",
    "id": "NlikIquaR_RB"
   },
   "source": [
    "## 1.1 What is Python?\n",
    "Python is a **high-level**, **dynamically typed** and **interpreted** language. For those without a CS background, the previous statement may seem a little too jargony, so lets unpack it. \n",
    "\n",
    "### 1.1.1 High-Level\n",
    "When we say a language is high-level, it generally means that it is a language with a lot more built in abstractions to hide some of the nastier parts of programming. A common practice is for people to prototype algorithms with high-level languages and then write faster implementations of those algorithms in a lower level language like C++. Throughout this notebook, we'll be making comparisons to C in order to give a better understanding of the advantages that a high-level language offers over a lower-level one. \n",
    "\n",
    "### 1.1.2 Interpreted Language\n",
    "Here lies the first difference between C and Python. In C, in order to run our code on our machines, we must first compile it. As a review, compiling a program means taking the language syntax and turning it into machine code that can actually run on your computer's processor. The problem with this approach is that you need to write your program and then compile it and then run it. This can be cumbersome when trying to do rapid prototyping of an algorithm. Python aims to fix this by interpreting lines of code. Interpreting simply means we can run a line of code as soon as we type it out. This happens to be how our IPython Notebooks work. For each cell of code that we run, the Python interpreter is called to run and execute each line. The advantage of this is that we can instantly see the results of each line of code as we are developing it. This makes it much easier to prototype a program and ensure its working. The below cell gives an example of how this works. You can run a cell by pressing the play button (Run button) or using the keyboard shortcut Shift + Enter.\n",
    "\n",
    "\n"
   ]
  },
  {
   "cell_type": "code",
   "execution_count": 1,
   "metadata": {},
   "outputs": [
    {
     "name": "stdout",
     "output_type": "stream",
     "text": [
      "6\n"
     ]
    }
   ],
   "source": [
    "x = 6\n",
    "print(x)"
   ]
  },
  {
   "cell_type": "code",
   "execution_count": 2,
   "metadata": {},
   "outputs": [
    {
     "ename": "NameError",
     "evalue": "name 'y' is not defined",
     "output_type": "error",
     "traceback": [
      "\u001b[0;31m---------------------------------------------------------------------------\u001b[0m",
      "\u001b[0;31mNameError\u001b[0m                                 Traceback (most recent call last)",
      "Input \u001b[0;32mIn [2]\u001b[0m, in \u001b[0;36m<cell line: 1>\u001b[0;34m()\u001b[0m\n\u001b[0;32m----> 1\u001b[0m \u001b[43my\u001b[49m \u001b[38;5;241m+\u001b[39m x\n",
      "\u001b[0;31mNameError\u001b[0m: name 'y' is not defined"
     ]
    }
   ],
   "source": [
    "y + x"
   ]
  },
  {
   "cell_type": "code",
   "execution_count": 7,
   "metadata": {},
   "outputs": [],
   "source": [
    "y = 9"
   ]
  },
  {
   "cell_type": "code",
   "execution_count": 3,
   "metadata": {
    "colab": {
     "base_uri": "https://localhost:8080/",
     "height": 34
    },
    "colab_type": "code",
    "id": "oNam2uECUCJW",
    "outputId": "3f2102f2-c751-4ac9-83fd-fd759ac60ee7"
   },
   "outputs": [
    {
     "name": "stdout",
     "output_type": "stream",
     "text": [
      "[1, 1, 2, 3, 6, 8, 10]\n"
     ]
    }
   ],
   "source": [
    "def quicksort(arr):\n",
    "    if len(arr) <= 1:\n",
    "        return arr\n",
    "    pivot = arr[len(arr) // 2]\n",
    "    left = [x for x in arr if x < pivot]\n",
    "    middle = [x for x in arr if x == pivot]\n",
    "    right = [x for x in arr if x > pivot]\n",
    "    return quicksort(left) + middle + quicksort(right)\n",
    "\n",
    "print(quicksort([3,6,8,10,1,2,1]))"
   ]
  },
  {
   "cell_type": "code",
   "execution_count": 3,
   "metadata": {},
   "outputs": [],
   "source": [
    "x = 7"
   ]
  },
  {
   "cell_type": "code",
   "execution_count": 2,
   "metadata": {},
   "outputs": [
    {
     "name": "stdout",
     "output_type": "stream",
     "text": [
      "test\n"
     ]
    }
   ],
   "source": [
    "print('test')"
   ]
  },
  {
   "cell_type": "markdown",
   "metadata": {
    "colab_type": "text",
    "id": "MKf__AK6ulhl"
   },
   "source": [
    "You should immediately notice how simple the python syntax is. The design of the language is such that it should be like writing out pseudocode. Combined with Python's interpreter this makes for some very fast development as you can easily evaluate a statement to see what it does. As an example, lets say we don't quite understand whats going on in the statement \n",
    "\n",
    "```\n",
    "left = [x for x in arr if x < pivot]\n",
    "middle = [x for x in arr if x == pivot]\n",
    "right = [x for x in arr if x > pivot]\n",
    "```\n",
    "Then we can easily pull those lines out of our function and run them to see what they're doing.\n"
   ]
  },
  {
   "cell_type": "code",
   "execution_count": 182,
   "metadata": {
    "colab": {
     "base_uri": "https://localhost:8080/",
     "height": 85
    },
    "colab_type": "code",
    "id": "E1GnZczVvIGV",
    "outputId": "47fcd976-a9b3-437b-aea8-39388b8db0fe"
   },
   "outputs": [
    {
     "name": "stdout",
     "output_type": "stream",
     "text": [
      "Pivot Value:  10\n",
      "Left:  [3, 6, 8, 1, 2, 1]\n",
      "Right:  []\n",
      "Middle:  [10]\n"
     ]
    }
   ],
   "source": [
    "arr = [3, 6, 8, 10, 1, 2, 1]\n",
    "pivot = arr[len(arr) // 2]\n",
    "print(\"Pivot Value: \", pivot)\n",
    "left = [x for x in arr if x < pivot]\n",
    "middle = [x for x in arr if x == pivot]\n",
    "right = [x for x in arr if x > pivot]\n",
    "print(\"Left: \", left)\n",
    "print(\"Right: \", right)\n",
    "print(\"Middle: \", middle)"
   ]
  },
  {
   "cell_type": "markdown",
   "metadata": {
    "colab_type": "text",
    "id": "ldMeWlwmT2vj"
   },
   "source": [
    "### 1.1.3 Dynamically Typed\n",
    "When we say a language is dynamically typed it means that our interpreter will determine what the type is for each variable, rather than have the programmer worry about it. In C for example, we would have to type something like \n",
    "\n",
    "```\n",
    "int x = 3\n",
    "```\n",
    "\n",
    "Python allows us to just declare a variable x, and let the language figure out what the type of x should be based on what we assign the variable x too. The below example illustrates how the python interpreter assigns types at runtime. In this case, since y is a decimal value the interpreter automatically makes it a floating point type."
   ]
  },
  {
   "cell_type": "code",
   "execution_count": 183,
   "metadata": {
    "colab": {
     "base_uri": "https://localhost:8080/",
     "height": 51
    },
    "colab_type": "code",
    "id": "zTux_MJHRRiy",
    "outputId": "ae665c00-f0f4-4eb6-cb6b-03c12009f06c"
   },
   "outputs": [
    {
     "name": "stdout",
     "output_type": "stream",
     "text": [
      "<class 'int'>\n",
      "<class 'float'>\n"
     ]
    }
   ],
   "source": [
    "x = 1\n",
    "print(type(x))\n",
    "y = 1.5\n",
    "print(type(y))"
   ]
  },
  {
   "cell_type": "markdown",
   "metadata": {
    "colab_type": "text",
    "id": "RhDf20EjYhh4"
   },
   "source": [
    "#### Note:\n",
    "A common issue when debugging Python code is that the interpreter has inferred the wrong type for a variable you are working with, causing unforeseen results in your program. If you are struggling to find a logical issue with a large Python program, you should immediately look to use the type() function to verify that the types of your variables are what you expect. As a good practice, you should use an assert for proper type checking in the places of your code you feel its needed. "
   ]
  },
  {
   "cell_type": "code",
   "execution_count": 57,
   "metadata": {
    "colab": {
     "base_uri": "https://localhost:8080/",
     "height": 252
    },
    "colab_type": "code",
    "id": "_MrSefhPYg2B",
    "outputId": "357bf5d7-5646-4d30-ee1d-10cb2a7261b3"
   },
   "outputs": [
    {
     "name": "stdout",
     "output_type": "stream",
     "text": [
      "Correct Variable Typing\n"
     ]
    },
    {
     "ename": "AssertionError",
     "evalue": "Mismatching Types",
     "output_type": "error",
     "traceback": [
      "\u001b[0;31m---------------------------------------------------------------------------\u001b[0m",
      "\u001b[0;31mAssertionError\u001b[0m                            Traceback (most recent call last)",
      "\u001b[0;32m<ipython-input-57-8b24d64926db>\u001b[0m in \u001b[0;36m<module>\u001b[0;34m\u001b[0m\n\u001b[1;32m      2\u001b[0m \u001b[0;32massert\u001b[0m\u001b[0;34m(\u001b[0m\u001b[0mtype\u001b[0m\u001b[0;34m(\u001b[0m\u001b[0mx\u001b[0m\u001b[0;34m)\u001b[0m \u001b[0;32mis\u001b[0m \u001b[0mtype\u001b[0m\u001b[0;34m(\u001b[0m\u001b[0mz\u001b[0m\u001b[0;34m)\u001b[0m\u001b[0;34m)\u001b[0m\u001b[0;34m\u001b[0m\u001b[0;34m\u001b[0m\u001b[0m\n\u001b[1;32m      3\u001b[0m \u001b[0mprint\u001b[0m\u001b[0;34m(\u001b[0m\u001b[0;34m\"Correct Variable Typing\"\u001b[0m\u001b[0;34m)\u001b[0m\u001b[0;34m\u001b[0m\u001b[0;34m\u001b[0m\u001b[0m\n\u001b[0;32m----> 4\u001b[0;31m \u001b[0;32massert\u001b[0m\u001b[0;34m(\u001b[0m\u001b[0mtype\u001b[0m\u001b[0;34m(\u001b[0m\u001b[0mx\u001b[0m\u001b[0;34m)\u001b[0m \u001b[0;32mis\u001b[0m \u001b[0mtype\u001b[0m\u001b[0;34m(\u001b[0m\u001b[0my\u001b[0m\u001b[0;34m)\u001b[0m\u001b[0;34m)\u001b[0m\u001b[0;34m,\u001b[0m \u001b[0;34m\"Mismatching Types\"\u001b[0m\u001b[0;34m\u001b[0m\u001b[0;34m\u001b[0m\u001b[0m\n\u001b[0m",
      "\u001b[0;31mAssertionError\u001b[0m: Mismatching Types"
     ]
    }
   ],
   "source": [
    "z = 5\n",
    "assert(type(x) is type(z))\n",
    "print(\"Correct Variable Typing\")\n",
    "assert(type(x) is type(y)), \"Mismatching Types\""
   ]
  },
  {
   "cell_type": "markdown",
   "metadata": {
    "colab_type": "text",
    "id": "WAkolozOI2I1"
   },
   "source": [
    "# 2. Basic Data Types in Python\n",
    "This module will cover all the different data types supported in base Python 3. \n",
    "## 2.1 Integer Types and Arithmetic Operators"
   ]
  },
  {
   "cell_type": "code",
   "execution_count": 184,
   "metadata": {
    "colab": {
     "base_uri": "https://localhost:8080/",
     "height": 187
    },
    "colab_type": "code",
    "id": "OAb7QFf5XvqX",
    "outputId": "9a8db7ae-7369-467f-f6a7-41faee827562"
   },
   "outputs": [
    {
     "name": "stdout",
     "output_type": "stream",
     "text": [
      "<class 'int'>\n",
      "3\n",
      "4\n",
      "2\n",
      "6\n",
      "9\n",
      "4\n",
      "8\n",
      "<class 'float'>\n",
      "2.5 3.5 5.0 6.25\n"
     ]
    }
   ],
   "source": [
    "x = 3\n",
    "print(type(x)) # Prints \"<class 'int'>\"\n",
    "print(x)       # Prints \"3\"\n",
    "print(x + 1)   # Addition; prints \"4\"\n",
    "print(x - 1)   # Subtraction; prints \"2\"\n",
    "print(x * 2)   # Multiplication; prints \"6\"\n",
    "print(x ** 2)  # Exponentiation; prints \"9\"\n",
    "x += 1\n",
    "print(x)       # Prints \"4\"\n",
    "x *= 2\n",
    "print(x)       # Prints \"8\"\n",
    "y = 2.5\n",
    "print(type(y)) # Prints \"<class 'float'>\"\n",
    "print(y, y + 1, y * 2, y ** 2) # Prints \"2.5 3.5 5.0 6.25\""
   ]
  },
  {
   "cell_type": "markdown",
   "metadata": {
    "colab_type": "text",
    "id": "etquGmiLKbPF"
   },
   "source": [
    "Couple of things to note here compared to C/C++. First is that Python has built-in support for exponentiation compared to C and C++. Floats and Ints function the same as in C and C++. There is also no support for unary incrementers such as ``` x++ ``` or  ``` x--```. \n",
    "\n",
    "## 2.2 Complex Numbers and Operations in Python\n",
    "Python also has support for complex numbers. This a sparsely used, but important feature if you happen to be working with algorithms that rely on complex numbers.\n"
   ]
  },
  {
   "cell_type": "code",
   "execution_count": 185,
   "metadata": {
    "colab": {
     "base_uri": "https://localhost:8080/",
     "height": 170
    },
    "colab_type": "code",
    "id": "T28jhdJEKKRP",
    "outputId": "c29d47e9-1ea0-4b66-a916-8334ec8c989b"
   },
   "outputs": [
    {
     "name": "stdout",
     "output_type": "stream",
     "text": [
      "(3+4j)\n",
      "<class 'complex'>\n",
      "(2.5+4.3j)\n",
      "<class 'complex'>\n",
      "<class 'complex'>\n",
      "(5.5+8.3j)\n",
      "(-9.7+22.9j)\n",
      "3.0\n",
      "4.0\n",
      "(3-4j)\n"
     ]
    }
   ],
   "source": [
    "c_x = complex(3, 4)    # Declare a complex variable  \n",
    "print(c_x)\n",
    "print(type(c_x)) \n",
    "c_y = 2.5 + 4.3J       # Declare a complex number using a J or j\n",
    "c_z = 2.3 + 4.5j  \n",
    "print(c_y)\n",
    "print(type(c_y))       # Each syntax still constructs an equivalent complex number\n",
    "print(type(c_z))  \n",
    "print(c_x + c_y)       # Complex Numbers can still use the same arithmetic operators\n",
    "print(c_x * c_y)\n",
    "print(c_x.real)        # Can extract both the real and imaginary parts\n",
    "print(c_x.imag)\n",
    "print(c_x.conjugate()) # Can also see what the conjugate of our numbers our"
   ]
  },
  {
   "cell_type": "markdown",
   "metadata": {
    "colab_type": "text",
    "id": "-jB2QQkvNZQY"
   },
   "source": [
    "## 2.2 Booleans in Python\n",
    "Booleans in Python function exactly the same as in C, but their syntax is different. In this case, it uses english words - `and` and `or` rather than the typical `` || `` or `` && ``. "
   ]
  },
  {
   "cell_type": "code",
   "execution_count": 186,
   "metadata": {
    "colab": {},
    "colab_type": "code",
    "id": "ueFFyGlPMAeQ"
   },
   "outputs": [
    {
     "name": "stdout",
     "output_type": "stream",
     "text": [
      "<class 'bool'>\n",
      "False\n",
      "True\n",
      "False\n",
      "True\n",
      "False\n"
     ]
    }
   ],
   "source": [
    "t = True\n",
    "f = False\n",
    "print(type(t)) # Prints \"<class 'bool'>\"\n",
    "print(t and f) # Logical AND; prints \"False\"\n",
    "print(t or f)  # Logical OR; prints \"True\"\n",
    "print(not t)   # Logical NOT; prints \"False\"\n",
    "print(t != f)  # Logical XOR; prints \"True\"\n",
    "print(t == f)  # Logical Equality; prints \"False\""
   ]
  },
  {
   "cell_type": "markdown",
   "metadata": {
    "colab_type": "text",
    "id": "MZBwn2iON8Xr"
   },
   "source": [
    "## 2.3 Strings in Python\n",
    "Unlike C, Python has built-in support for strings. This makes it much easier to do text processing and file parsing, since Python has so many powerful builtin methods to process strings. This is another reason that Python is so popular for data science, because it can so easily parse a variety of different file formats using only builtin language functions."
   ]
  },
  {
   "cell_type": "code",
   "execution_count": 187,
   "metadata": {
    "colab": {},
    "colab_type": "code",
    "id": "mw5QcrEPOZJz"
   },
   "outputs": [
    {
     "name": "stdout",
     "output_type": "stream",
     "text": [
      "hello\n",
      "5\n",
      "hello world\n",
      "hello world 12\n"
     ]
    }
   ],
   "source": [
    "hello = 'hello'    # String literals can use single quotes\n",
    "world = \"world\"    # or double quotes; it does not matter.\n",
    "print(hello)       # Prints \"hello\"\n",
    "print(len(hello))  # String length; prints \"5\"\n",
    "hw = hello + ' ' + world  # String concatenation\n",
    "print(hw)          # prints \"hello world\"\n",
    "hw12 = '%s %s %d' % (hello, world, 12)  # sprintf style string formatting\n",
    "print(hw12)        # prints \"hello world 12\""
   ]
  },
  {
   "cell_type": "markdown",
   "metadata": {
    "colab_type": "text",
    "id": "Lk4DZQsZOjTr"
   },
   "source": [
    "### 2.3.1 Useful String Functions"
   ]
  },
  {
   "cell_type": "code",
   "execution_count": 188,
   "metadata": {
    "colab": {},
    "colab_type": "code",
    "id": "RwSJoQnqOmVY"
   },
   "outputs": [
    {
     "name": "stdout",
     "output_type": "stream",
     "text": [
      "Hello\n",
      "HELLO\n",
      "  hello\n",
      " hello \n",
      "he(ell)(ell)o\n",
      "world\n"
     ]
    }
   ],
   "source": [
    "s = \"hello\"\n",
    "print(s.capitalize())  # Capitalize a string; prints \"Hello\"\n",
    "print(s.upper())       # Convert a string to uppercase; prints \"HELLO\"\n",
    "print(s.rjust(7))      # Right-justify a string, padding with spaces; prints \"  hello\"\n",
    "print(s.center(7))     # Center a string, padding with spaces; prints \" hello \"\n",
    "print(s.replace('l', '(ell)'))  # Replace all instances of one substring with another; prints \"he(ell)(ell)o\"\n",
    "print('  world '.strip())  # Strip leading and trailing whitespace; prints \"world\""
   ]
  },
  {
   "cell_type": "markdown",
   "metadata": {
    "colab_type": "text",
    "id": "jIGoUdfkO6CL"
   },
   "source": [
    "Additional string functions are available in the [offical](https://docs.python.org/3.5/library/stdtypes.html#string-methods) Python documentation.\n"
   ]
  },
  {
   "cell_type": "markdown",
   "metadata": {
    "colab_type": "text",
    "id": "-Tx9BkFhPHNe"
   },
   "source": [
    "# 3. Data Structures in Python\n",
    "Python has a variety of useful data structures built into the language. This section will cover the 4 different types: lists, dictionaries, sets, and tuples. \n",
    "\n",
    "## 3.1 Lists\n",
    "Lists in Python are equivalent to arrays in C, but shares a little more similarity to a vector in C++, in the sense that lists in Python are resizable. They have a unique behavior compared to C++, because one array can contain elements of different types. This is generally true of all structures in Python and is another builtin advantage of the language."
   ]
  },
  {
   "cell_type": "code",
   "execution_count": 14,
   "metadata": {
    "colab": {
     "base_uri": "https://localhost:8080/",
     "height": 102
    },
    "colab_type": "code",
    "id": "uWkm1KET5LWW",
    "outputId": "025ab125-94c8-4fe9-9cc4-5c5cb78678a5"
   },
   "outputs": [
    {
     "name": "stdout",
     "output_type": "stream",
     "text": [
      "Whole List:  [4, 5, 6]\n",
      "List 2nd element:  5\n",
      "Last element:  6\n",
      "[4, 5, 'foo']\n",
      "[4, 5, 'foo', 'bar']\n",
      "bar [4, 5, 'foo']\n"
     ]
    }
   ],
   "source": [
    "xs = [4, 5, 6]    \n",
    "print('Whole List: ', xs)  # Can print the whole list\n",
    "print('List 2nd element: ', xs[1])  # Individual elements through indexing\n",
    "print('Last element: ', xs[-1]) # Python supports negative indexing, -1 prints the last element     \n",
    "xs[2] = 'foo' # Lists can have multiple datatypes\n",
    "print(xs)         \n",
    "xs.append('bar') # And we can easily add elements\n",
    "print(xs)         \n",
    "x = xs.pop() # Remove the last element in the list      \n",
    "print(x, xs)      "
   ]
  },
  {
   "cell_type": "markdown",
   "metadata": {
    "colab_type": "text",
    "id": "hZugMe-f6CRm"
   },
   "source": [
    "For more specific details on lists, refer to [the documentation.](https://docs.python.org/3.5/tutorial/datastructures.html#more-on-lists)\n",
    "\n",
    "\n",
    "### 3.1.1 Slicing\n",
    "In addition to accessing list elements one at a time, Python provides concise syntax to access sublists; this is known as slicing."
   ]
  },
  {
   "cell_type": "code",
   "execution_count": 15,
   "metadata": {
    "colab": {},
    "colab_type": "code",
    "id": "FRCrseUL5a5n"
   },
   "outputs": [
    {
     "name": "stdout",
     "output_type": "stream",
     "text": [
      "[0, 1, 2, 3, 4]\n",
      "[2, 3]\n",
      "[2, 3, 4]\n",
      "[0, 1]\n",
      "[0, 1, 2, 3, 4]\n",
      "[0, 1, 2, 3]\n",
      "[0, 1, 8, 9, 4]\n"
     ]
    }
   ],
   "source": [
    "nums = list(range(5))     # range is a built-in function that creates a list of integers\n",
    "print(nums)               \n",
    "print(nums[2:4])          # Get a slice from index 2 to 4 (exclusive); \n",
    "print(nums[2:])           # Get a slice from index 2 to the end; \n",
    "print(nums[:2])           # Get a slice from the start to index 2 (exclusive); \n",
    "print(nums[:])            # Get a slice of the whole list; \n",
    "print(nums[:-1])          # Slice indices can be negative; \n",
    "nums[2:4] = [8, 9]        # Assign a new sublist to a slice\n",
    "print(nums)               "
   ]
  },
  {
   "cell_type": "markdown",
   "metadata": {
    "colab_type": "text",
    "id": "_9j3VOTH8mug"
   },
   "source": [
    "### 3.1.2 Loops\n",
    "You can loop over elements of a list like this:"
   ]
  },
  {
   "cell_type": "code",
   "execution_count": 16,
   "metadata": {
    "colab": {},
    "colab_type": "code",
    "id": "hfPuw5FV8zkG"
   },
   "outputs": [
    {
     "name": "stdout",
     "output_type": "stream",
     "text": [
      "cat\n",
      "dog\n",
      "monkey\n"
     ]
    }
   ],
   "source": [
    "animals = ['cat', 'dog', 'monkey']\n",
    "for animal in animals:\n",
    "    print(animal)"
   ]
  },
  {
   "cell_type": "markdown",
   "metadata": {
    "colab_type": "text",
    "id": "-EMHRUNZ8__8"
   },
   "source": [
    "If you want access to the index while looping through a list, use the ``enumerate`` function."
   ]
  },
  {
   "cell_type": "code",
   "execution_count": 17,
   "metadata": {
    "colab": {},
    "colab_type": "code",
    "id": "NWQhoar39O3q"
   },
   "outputs": [
    {
     "name": "stdout",
     "output_type": "stream",
     "text": [
      "#1: cat\n",
      "#2: dog\n",
      "#3: monkey\n"
     ]
    }
   ],
   "source": [
    "animals = ['cat', 'dog', 'monkey']\n",
    "for idx, animal in enumerate(animals):\n",
    "    print('#%d: %s' % (idx + 1, animal))"
   ]
  },
  {
   "cell_type": "markdown",
   "metadata": {
    "colab_type": "text",
    "id": "r2DlpqBi9iMQ"
   },
   "source": [
    "As you can see, it is much easier to iterate through a list in python, than a vector in C++, and even an array in C.\n",
    "\n",
    "### 3.1.3 List Comprehensions\n",
    "If we ever want to apply the same operation to every element in a list, we can use list comprehension. We can illustrate this by showing two different ways to square a list of numbers."
   ]
  },
  {
   "cell_type": "code",
   "execution_count": 21,
   "metadata": {
    "colab": {
     "base_uri": "https://localhost:8080/",
     "height": 51
    },
    "colab_type": "code",
    "id": "THpkqflx-Ddm",
    "outputId": "52d08494-5f6b-43f0-91cf-5b1e2583d35e"
   },
   "outputs": [
    {
     "name": "stdout",
     "output_type": "stream",
     "text": [
      "[0, 1, 2, 3, 4]\n",
      "[0, 1, 4, 9, 16]\n"
     ]
    }
   ],
   "source": [
    "# Without List Comprehensions\n",
    "nums = list(range(5)) # Create a list from 0-4\n",
    "print(nums)\n",
    "squares = []\n",
    "for x in nums:\n",
    "  squares.append(x ** 2)\n",
    "print(squares)\n"
   ]
  },
  {
   "cell_type": "markdown",
   "metadata": {
    "colab_type": "text",
    "id": "ZRc2bboc-cJe"
   },
   "source": [
    "This can be done easier using list comprehension:"
   ]
  },
  {
   "cell_type": "code",
   "execution_count": 22,
   "metadata": {
    "colab": {
     "base_uri": "https://localhost:8080/",
     "height": 34
    },
    "colab_type": "code",
    "id": "gjVCXZB3-IpQ",
    "outputId": "8e80c9e0-ffa2-465a-8639-c3a0de8b2fda"
   },
   "outputs": [
    {
     "name": "stdout",
     "output_type": "stream",
     "text": [
      "[0, 1, 4, 9, 16]\n"
     ]
    }
   ],
   "source": [
    "# With List Comprehensions\n",
    "nums = list(range(5))\n",
    "squares = [x ** 2 for x in nums]\n",
    "print(squares)"
   ]
  },
  {
   "cell_type": "markdown",
   "metadata": {
    "colab_type": "text",
    "id": "QxoYwViU-2lg"
   },
   "source": [
    "We already saw how list comprehensions can be used to easily implement the quicksort algorithm in the earlier part of this notebook.\n",
    "\n",
    "## 3.2 Dictionaries\n",
    "Dictionaries in Python are equivalent to a map in C++. They store (key, value) pairs and allow efficient lookups for values mapped by keys. "
   ]
  },
  {
   "cell_type": "code",
   "execution_count": 50,
   "metadata": {
    "colab": {
     "base_uri": "https://localhost:8080/",
     "height": 301
    },
    "colab_type": "code",
    "id": "rOHjD5cI-0T7",
    "outputId": "4f788525-c39b-4bbb-b111-e4d5df9569a7"
   },
   "outputs": [
    {
     "name": "stdout",
     "output_type": "stream",
     "text": [
      "{'cat': 'cute', 'dog': 'furry'}\n",
      "cute\n",
      "True\n",
      "{'cat': 'cute', 'dog': 'furry', 'fish': 'wet'}\n",
      "wet\n",
      "N/A\n"
     ]
    },
    {
     "ename": "KeyError",
     "evalue": "'monkey'",
     "output_type": "error",
     "traceback": [
      "\u001b[0;31m---------------------------------------------------------------------------\u001b[0m",
      "\u001b[0;31mKeyError\u001b[0m                                  Traceback (most recent call last)",
      "\u001b[0;32m<ipython-input-50-766ed45ec436>\u001b[0m in \u001b[0;36m<module>\u001b[0;34m\u001b[0m\n\u001b[1;32m      8\u001b[0m \u001b[0;32mdel\u001b[0m \u001b[0md\u001b[0m\u001b[0;34m[\u001b[0m\u001b[0;34m'fish'\u001b[0m\u001b[0;34m]\u001b[0m         \u001b[0;31m# Remove an element from a dictionary\u001b[0m\u001b[0;34m\u001b[0m\u001b[0;34m\u001b[0m\u001b[0m\n\u001b[1;32m      9\u001b[0m \u001b[0mprint\u001b[0m\u001b[0;34m(\u001b[0m\u001b[0md\u001b[0m\u001b[0;34m.\u001b[0m\u001b[0mget\u001b[0m\u001b[0;34m(\u001b[0m\u001b[0;34m'fish'\u001b[0m\u001b[0;34m,\u001b[0m \u001b[0;34m'N/A'\u001b[0m\u001b[0;34m)\u001b[0m\u001b[0;34m)\u001b[0m \u001b[0;31m# \"fish\" is no longer a key\u001b[0m\u001b[0;34m\u001b[0m\u001b[0;34m\u001b[0m\u001b[0m\n\u001b[0;32m---> 10\u001b[0;31m \u001b[0mprint\u001b[0m\u001b[0;34m(\u001b[0m\u001b[0md\u001b[0m\u001b[0;34m[\u001b[0m\u001b[0;34m'monkey'\u001b[0m\u001b[0;34m]\u001b[0m\u001b[0;34m)\u001b[0m    \u001b[0;31m# KeyError will be thrown\u001b[0m\u001b[0;34m\u001b[0m\u001b[0;34m\u001b[0m\u001b[0m\n\u001b[0m",
      "\u001b[0;31mKeyError\u001b[0m: 'monkey'"
     ]
    }
   ],
   "source": [
    "d = {'cat': 'cute', 'dog': 'furry'}  # Create a new dictionary with some data\n",
    "print(d)\n",
    "print(d['cat'])       # Get an entry from a dictionary, prints \"cute\"\n",
    "print('cat' in d)     # Check if a dictionary has a given key, prints \"True\"\n",
    "d['fish'] = 'wet'     # Set an entry in a dictionary\n",
    "print(d)\n",
    "print(d['fish'])\n",
    "del d['fish']         # Remove an element from a dictionary\n",
    "print(d.get('fish', 'N/A')) # \"fish\" is no longer a key\n",
    "print(d['monkey'])    # KeyError will be thrown"
   ]
  },
  {
   "cell_type": "markdown",
   "metadata": {
    "colab_type": "text",
    "id": "ZuCtqqyF__KC"
   },
   "source": [
    "### 3.2.1 Looping over dictionaries\n",
    "It is easy to iterate over the keys in a dictionary:"
   ]
  },
  {
   "cell_type": "code",
   "execution_count": 51,
   "metadata": {
    "colab": {},
    "colab_type": "code",
    "id": "1JibnFnN_0aZ"
   },
   "outputs": [
    {
     "name": "stdout",
     "output_type": "stream",
     "text": [
      "A person has 2 legs\n",
      "A cat has 4 legs\n",
      "A spider has 8 legs\n"
     ]
    }
   ],
   "source": [
    "d = {'person': 2, 'cat': 4, 'spider': 8}\n",
    "for animal in d:\n",
    "    legs = d[animal]\n",
    "    print('A %s has %d legs' % (animal, legs))"
   ]
  },
  {
   "cell_type": "markdown",
   "metadata": {
    "colab_type": "text",
    "id": "gMfvIChMAfKj"
   },
   "source": [
    "If you want access to keys and their corresponding values, use the `items` method:"
   ]
  },
  {
   "cell_type": "code",
   "execution_count": 52,
   "metadata": {
    "colab": {},
    "colab_type": "code",
    "id": "xyruuAhFAmCA"
   },
   "outputs": [
    {
     "name": "stdout",
     "output_type": "stream",
     "text": [
      "A person has 2 legs\n",
      "A cat has 4 legs\n",
      "A spider has 8 legs\n"
     ]
    }
   ],
   "source": [
    "d = {'person': 2, 'cat': 4, 'spider': 8}\n",
    "for animal, legs in d.items():\n",
    "    print('A %s has %d legs' % (animal, legs))"
   ]
  },
  {
   "cell_type": "markdown",
   "metadata": {
    "colab_type": "text",
    "id": "wEG2xQDXAnfw"
   },
   "source": [
    "### 3.2.2 Dictionary Comprehensions\n",
    "These are similar to list comprehensions, but allow you to easily construct dictionaries. For example:"
   ]
  },
  {
   "cell_type": "code",
   "execution_count": 53,
   "metadata": {
    "colab": {},
    "colab_type": "code",
    "id": "lqjy6uloAuyu"
   },
   "outputs": [
    {
     "name": "stdout",
     "output_type": "stream",
     "text": [
      "{0: 0, 2: 4, 4: 16}\n"
     ]
    }
   ],
   "source": [
    "nums = [0, 1, 2, 3, 4]\n",
    "even_num_to_square = {x: x ** 2 for x in nums if x % 2 == 0}\n",
    "print(even_num_to_square)"
   ]
  },
  {
   "cell_type": "markdown",
   "metadata": {
    "colab_type": "text",
    "id": "c_HnPvIeAzpZ"
   },
   "source": [
    "## 3.3 Sets\n",
    "A set is an unordered collection of distinct elements. Sets are useful when you want to efficiently check if an element is in a set or not. For those familiar with the concept, the Python set is an implementation of a hash table. As a simple example, consider the following:"
   ]
  },
  {
   "cell_type": "code",
   "execution_count": 54,
   "metadata": {
    "colab": {},
    "colab_type": "code",
    "id": "H2DXt6r-BK9h"
   },
   "outputs": [
    {
     "name": "stdout",
     "output_type": "stream",
     "text": [
      "True\n",
      "False\n",
      "True\n",
      "3\n",
      "3\n",
      "2\n"
     ]
    }
   ],
   "source": [
    "animals = {'cat', 'dog'}\n",
    "print('cat' in animals)   # Check if an element is in a set;\n",
    "print('fish' in animals)  \n",
    "animals.add('fish')       # Add an element to a set\n",
    "print('fish' in animals)  \n",
    "print(len(animals))       # Number of elements in a set; \n",
    "animals.add('cat')        # Adding an element that is already in the set does nothing\n",
    "print(len(animals))       \n",
    "animals.remove('cat')     # Remove an element from a set\n",
    "print(len(animals))       "
   ]
  },
  {
   "cell_type": "code",
   "execution_count": 55,
   "metadata": {},
   "outputs": [
    {
     "name": "stdout",
     "output_type": "stream",
     "text": [
      "{'a', 'm', 'h', 'r', 'b'}\n",
      "set()\n",
      "{'c', 'i', 'o', 'v'}\n",
      "{'a', 'i', 'o', 'm', 'h', 'r', 'c', 'b', 'v'}\n",
      "{'a', 'm', 'h', 'r', 'b'}\n",
      "{'i', 'o', 'c', 'v'}\n"
     ]
    }
   ],
   "source": [
    "# Another Example\n",
    "a = set('abraham')\n",
    "b = set('ibrahimovic')\n",
    "print(a)      # all unique letters in a\n",
    "print(a - b)  # letters in a but not in b\n",
    "print(b - a)  # letters in b but not in a\n",
    "print(a | b)  # letters in a or b or both\n",
    "print(a & b)  # letters in both a and b\n",
    "print(a ^ b)  # letters in a or b but not in both"
   ]
  },
  {
   "cell_type": "markdown",
   "metadata": {
    "colab_type": "text",
    "id": "EecyOrcNBsCk"
   },
   "source": [
    "### 3.3.1 Looping over Sets\n",
    "Iterating over a set has the same syntax as iterating over a list; however since sets are unordered, you cannot make assumptions about the order in which you visit the elements of the set:"
   ]
  },
  {
   "cell_type": "code",
   "execution_count": null,
   "metadata": {
    "colab": {},
    "colab_type": "code",
    "id": "DZCR0EjaB0Oc"
   },
   "outputs": [],
   "source": [
    "animals = {'cat', 'dog', 'fish'}\n",
    "for idx, animal in enumerate(animals):\n",
    "    print('#%d: %s' % (idx + 1, animal))"
   ]
  },
  {
   "cell_type": "markdown",
   "metadata": {
    "colab_type": "text",
    "id": "xqe-XWAQB5s6"
   },
   "source": [
    "### 3.3.2 Sets Comprehensions\n",
    "Like lists and dictionaries, we can easily construct sets using set comprehensions:"
   ]
  },
  {
   "cell_type": "code",
   "execution_count": 37,
   "metadata": {
    "colab": {},
    "colab_type": "code",
    "id": "M7wIJ4ppC0RP"
   },
   "outputs": [
    {
     "name": "stdout",
     "output_type": "stream",
     "text": [
      "{0, 1, 2, 3, 4, 5}\n"
     ]
    }
   ],
   "source": [
    "from math import sqrt\n",
    "nums = {int(sqrt(x)) for x in range(30)}\n",
    "print(nums)"
   ]
  },
  {
   "cell_type": "markdown",
   "metadata": {
    "colab_type": "text",
    "id": "l_wGslh9C2RF"
   },
   "source": [
    "## 3.4 Tuples \n",
    "A tuple is an (immutable) ordered list of values. A tuple is in many ways similar to a list; one of the most important differences is that tuples can be used as keys in dictionaries and as elements of sets, while lists cannot. We can use tuples for keys because they are immutable. The value of a key in a set or dictionary should not be immutable. There is no really great analog to a tuple in C or C++, but Tuples and structs are used in much the same way. Quick and easy data abstraction to represent something without too much trouble. Here is a trivial example:"
   ]
  },
  {
   "cell_type": "code",
   "execution_count": 38,
   "metadata": {
    "colab": {},
    "colab_type": "code",
    "id": "0RguKB1eDj79"
   },
   "outputs": [
    {
     "name": "stdout",
     "output_type": "stream",
     "text": [
      "<class 'tuple'>\n",
      "5\n",
      "1\n"
     ]
    }
   ],
   "source": [
    "d = {(x, x + 1): x for x in range(10)}  # Create a dictionary with tuple keys\n",
    "t = (5, 6)        # Create a tuple\n",
    "print(type(t))    \n",
    "print(d[t])       \n",
    "print(d[(1, 2)])"
   ]
  },
  {
   "cell_type": "code",
   "execution_count": 74,
   "metadata": {},
   "outputs": [
    {
     "name": "stdout",
     "output_type": "stream",
     "text": [
      "123\n",
      "((123, 456, 'abc'), (1, 2, 3, 4, 5))\n",
      "<class 'tuple'>\n"
     ]
    },
    {
     "ename": "TypeError",
     "evalue": "'tuple' object does not support item assignment",
     "output_type": "error",
     "traceback": [
      "\u001b[0;31m---------------------------------------------------------------------------\u001b[0m",
      "\u001b[0;31mTypeError\u001b[0m                                 Traceback (most recent call last)",
      "\u001b[0;32m<ipython-input-74-e6c8c51724a1>\u001b[0m in \u001b[0;36m<module>\u001b[0;34m\u001b[0m\n\u001b[1;32m      4\u001b[0m \u001b[0mprint\u001b[0m\u001b[0;34m(\u001b[0m\u001b[0mu\u001b[0m\u001b[0;34m)\u001b[0m\u001b[0;34m\u001b[0m\u001b[0;34m\u001b[0m\u001b[0m\n\u001b[1;32m      5\u001b[0m \u001b[0mprint\u001b[0m\u001b[0;34m(\u001b[0m\u001b[0mtype\u001b[0m\u001b[0;34m(\u001b[0m\u001b[0mu\u001b[0m\u001b[0;34m)\u001b[0m\u001b[0;34m)\u001b[0m\u001b[0;34m\u001b[0m\u001b[0;34m\u001b[0m\u001b[0m\n\u001b[0;32m----> 6\u001b[0;31m \u001b[0mt\u001b[0m\u001b[0;34m[\u001b[0m\u001b[0;36m0\u001b[0m\u001b[0;34m]\u001b[0m \u001b[0;34m=\u001b[0m \u001b[0;36m19\u001b[0m    \u001b[0;31m# Tuples are immutable, will throw an error\u001b[0m\u001b[0;34m\u001b[0m\u001b[0;34m\u001b[0m\u001b[0m\n\u001b[0m",
      "\u001b[0;31mTypeError\u001b[0m: 'tuple' object does not support item assignment"
     ]
    }
   ],
   "source": [
    "t = 123, 456, 'abc'\n",
    "print(t[0])\n",
    "u = t, (1,2,3,4,5)\n",
    "print(u)\n",
    "print(type(u))\n",
    "t[0] = 19    # Tuples are immutable, will throw an error"
   ]
  },
  {
   "cell_type": "markdown",
   "metadata": {
    "colab_type": "text",
    "id": "Sndi-_gtD_w3"
   },
   "source": [
    "# 4. Functions\n",
    "Python functions are defined using the `def ` keyword. For example:"
   ]
  },
  {
   "cell_type": "code",
   "execution_count": 189,
   "metadata": {},
   "outputs": [
    {
     "name": "stdout",
     "output_type": "stream",
     "text": [
      "Hello!\n"
     ]
    }
   ],
   "source": [
    "def say_hello():\n",
    "    print('Hello!')\n",
    "    \n",
    "say_hello()"
   ]
  },
  {
   "cell_type": "markdown",
   "metadata": {},
   "source": [
    "We can pass information to process as arguments:"
   ]
  },
  {
   "cell_type": "code",
   "execution_count": 56,
   "metadata": {
    "colab": {},
    "colab_type": "code",
    "id": "wGg_1OplEOzg"
   },
   "outputs": [
    {
     "name": "stdout",
     "output_type": "stream",
     "text": [
      "negative\n",
      "zero\n",
      "positive\n"
     ]
    }
   ],
   "source": [
    "def sign(x):\n",
    "    if x > 0:\n",
    "        return 'positive'\n",
    "    elif x < 0:\n",
    "        return 'negative'\n",
    "    else:\n",
    "        return 'zero'\n",
    "\n",
    "for x in [-1, 0, 1]:\n",
    "    print(sign(x))"
   ]
  },
  {
   "cell_type": "markdown",
   "metadata": {},
   "source": [
    "Unlike C/C++, Python can have multiple return types"
   ]
  },
  {
   "cell_type": "code",
   "execution_count": 197,
   "metadata": {},
   "outputs": [
    {
     "name": "stdout",
     "output_type": "stream",
     "text": [
      "4.5 2.16794833886788 True\n"
     ]
    }
   ],
   "source": [
    "import statistics\n",
    "\n",
    "def find_stats(numbers):\n",
    "    mn = statistics.mean(numbers)\n",
    "    std = statistics.stdev(numbers)\n",
    "    \n",
    "    contains_two = 2 in numbers\n",
    "    \n",
    "    return mn, std, contains_two\n",
    "\n",
    "\n",
    "m, s, c = find_stats([4,6,8,3,4,2])\n",
    "\n",
    "print(m, s, c)        "
   ]
  },
  {
   "cell_type": "markdown",
   "metadata": {
    "colab_type": "text",
    "id": "sxtzT8zrESQA"
   },
   "source": [
    "We will often define functions to take optional keyword arguments, like this:\n",
    "\n"
   ]
  },
  {
   "cell_type": "code",
   "execution_count": 58,
   "metadata": {
    "colab": {},
    "colab_type": "code",
    "id": "QuSQIyMdEWcm"
   },
   "outputs": [
    {
     "name": "stdout",
     "output_type": "stream",
     "text": [
      "Hello, Bob\n",
      "HELLO, FRED!\n"
     ]
    }
   ],
   "source": [
    "def hello(name, loud=False):\n",
    "    if loud:\n",
    "        print('HELLO, %s!' % name.upper())\n",
    "    else:\n",
    "        print('Hello, %s' % name)\n",
    "\n",
    "hello('Bob') \n",
    "hello('Fred', loud=True)"
   ]
  },
  {
   "cell_type": "markdown",
   "metadata": {
    "colab_type": "text",
    "id": "k8pnu63nEdX1"
   },
   "source": [
    "# 5. Classes & OOP\n",
    "Object Oriented Programming (OOP) is a structural concept of programming which focuses software design on objects and data rather than just logic and functions. In OOP we create objects which can contain both data and functions. Classes and objects are two core ideas of OOP. Essentially, a class is a template for an object and an object is an instance of a class. \n",
    "\n",
    "## 5.1 Defining a Class 'Athlete'\n",
    "The syntax for defining classes in Python is straightforward:\n"
   ]
  },
  {
   "cell_type": "code",
   "execution_count": 175,
   "metadata": {
    "colab": {
     "base_uri": "https://localhost:8080/",
     "height": 34
    },
    "colab_type": "code",
    "id": "MvtIyrOJEkkE",
    "outputId": "125ce42c-1ad2-445a-dfe6-cc5d25366f6f"
   },
   "outputs": [
    {
     "name": "stdout",
     "output_type": "stream",
     "text": [
      "hi, I am  Cristiano Ronaldo\n",
      "36\n",
      "---------------\n",
      "hi, I am  Roger Federer\n",
      "40\n"
     ]
    }
   ],
   "source": [
    "# Class definition\n",
    "class Athlete:\n",
    "  \n",
    "    # Constructor\n",
    "    def __init__(self, fname, lname, age):\n",
    "        self.fname = fname\n",
    "        self.lname = lname\n",
    "        self.age = age\n",
    "\n",
    "    # Class Methods       \n",
    "    def say_hello(self):\n",
    "        print('hi, I am ', self.fname, self.lname)\n",
    "        \n",
    "        \n",
    "\n",
    "# Creating and using  Objects\n",
    "athlete1 = Athlete('Cristiano', 'Ronaldo', 36)   # Create an object athlete1\n",
    "athlete1.say_hello()                             # call class method\n",
    "print(athlete1.age)                              # print attribute\n",
    "print('---------------')\n",
    "athlete2 = Athlete('Roger', 'Federer', 40)       # Create another object of same class\n",
    "athlete2.say_hello()\n",
    "print(athlete2.age)"
   ]
  },
  {
   "cell_type": "markdown",
   "metadata": {
    "colab_type": "text",
    "id": "wZtzM0avGU29"
   },
   "source": [
    "As a note, everything by default in a Python class is `public`. This is obviously an increased security risk, so Python is relying on programmer responsibility. That means that you as the programmer should take time to ensure your programs are secure. (A solution will be discussed in section 5.4.3: Encapsulation)"
   ]
  },
  {
   "cell_type": "markdown",
   "metadata": {},
   "source": [
    "## 5.3 Variables\n",
    "### 5.3.1 Instance vs Class variables\n",
    "Class variables are for attributes and methods shared by all instances of the class. Instance variables are for data unique to each instance. Here is an example:"
   ]
  },
  {
   "cell_type": "code",
   "execution_count": 113,
   "metadata": {},
   "outputs": [
    {
     "name": "stdout",
     "output_type": "stream",
     "text": [
      "football\n",
      "football\n",
      "Messi\n",
      "Ronaldo\n"
     ]
    }
   ],
   "source": [
    "class Athlete:\n",
    "    sport = 'football'          # Class variable shared by all instances\n",
    "    \n",
    "    def __init__(self, name):\n",
    "        self.name = name       # Instance variable unique to each instance\n",
    "        \n",
    "\n",
    "player1 = Athlete('Messi')\n",
    "player2 = Athlete('Ronaldo')\n",
    "\n",
    "print(player1.sport)          # Shared by all Athletes\n",
    "print(player1.sport)          # Shared by all Athletes\n",
    "print(player1.name)           # unique to player1\n",
    "print(player2.name)           # unique to player2"
   ]
  },
  {
   "cell_type": "markdown",
   "metadata": {},
   "source": [
    "## 5.4 The Four Pillars of OOP\n",
    "The four pillars of OOP are ***Inheritance***, ***Encapsulation***, ***Abstraction*** and ***Polymorphism***. For the purpose of this class, we will only need to utilize inheritance and polymorphism. Hence, ***Encapsulation and Abstraction sections are optional to read.***\n",
    "\n",
    "### 5.4.1 Inheritance\n",
    "Classes are often interacting with other classes. In fact, some may share key features with others and we would wan to have them share these features at a programmable level. Inheritance allows a class (derived class) to aquire properties of another class (base class). \n",
    "\n",
    "Let us take this the following example of a sports player class. The base class `Athlete` is common to dervied classe (`Footballplayer`, `BasketballPlayer`), and contain all common features to all players such as a name. However, we can have classes with different sports and their individual methods and attributes."
   ]
  },
  {
   "cell_type": "code",
   "execution_count": 176,
   "metadata": {},
   "outputs": [
    {
     "name": "stdout",
     "output_type": "stream",
     "text": [
      "Roger Federer\n",
      "Athlete\n",
      "----------------\n",
      "Cristiano Ronaldo\n",
      "Athlete\n",
      "Striker\n",
      "Volley shot!\n",
      "----------------\n"
     ]
    },
    {
     "ename": "AttributeError",
     "evalue": "'Athlete' object has no attribute 'volley'",
     "output_type": "error",
     "traceback": [
      "\u001b[0;31m---------------------------------------------------------------------------\u001b[0m",
      "\u001b[0;31mAttributeError\u001b[0m                            Traceback (most recent call last)",
      "\u001b[0;32m<ipython-input-176-d5f5a8b3c2aa>\u001b[0m in \u001b[0;36m<module>\u001b[0;34m\u001b[0m\n\u001b[1;32m     34\u001b[0m \u001b[0mcr\u001b[0m\u001b[0;34m.\u001b[0m\u001b[0mvolley\u001b[0m\u001b[0;34m(\u001b[0m\u001b[0;34m)\u001b[0m           \u001b[0;31m# method specific to FootballPlayer class, cannot be called\u001b[0m\u001b[0;34m\u001b[0m\u001b[0;34m\u001b[0m\u001b[0m\n\u001b[1;32m     35\u001b[0m \u001b[0mprint\u001b[0m\u001b[0;34m(\u001b[0m\u001b[0;34m'----------------'\u001b[0m\u001b[0;34m)\u001b[0m\u001b[0;34m\u001b[0m\u001b[0;34m\u001b[0m\u001b[0m\n\u001b[0;32m---> 36\u001b[0;31m \u001b[0mub\u001b[0m\u001b[0;34m.\u001b[0m\u001b[0mvolley\u001b[0m\u001b[0;34m(\u001b[0m\u001b[0;34m)\u001b[0m          \u001b[0;31m# Will throw error as 'a' is an Athlete object, does not have volley() method\u001b[0m\u001b[0;34m\u001b[0m\u001b[0;34m\u001b[0m\u001b[0m\n\u001b[0m",
      "\u001b[0;31mAttributeError\u001b[0m: 'Athlete' object has no attribute 'volley'"
     ]
    }
   ],
   "source": [
    "# Base Class\n",
    "class Athlete:\n",
    "    \n",
    "    profession = 'Athlete'\n",
    "    \n",
    "    def __init__(self, fname, lname):\n",
    "        self.fname = fname\n",
    "        self.lname = lname\n",
    "    \n",
    "    def print_name(self):\n",
    "        print(self.fname, self.lname)\n",
    "        \n",
    "\n",
    "# Derived Class\n",
    "class FootballPlayer(Athlete):\n",
    "  \n",
    "    def __init__(self, fname, lname, position):\n",
    "        super().__init__(fname, lname)\n",
    "        self.position = position\n",
    "    \n",
    "    def volley(self):\n",
    "        print('Volley shot!')\n",
    "    \n",
    "\n",
    "ub = Athlete('Roger', 'Federer')\n",
    "cr = FootballPlayer('Cristiano', 'Ronaldo', 'Striker')\n",
    "\n",
    "ub.print_name()       # Base class print_name() method\n",
    "print(ub.profession)  # Shared class attribute\n",
    "print('----------------')\n",
    "cr.print_name()       # Derived class inherits parent print_name() method\n",
    "print(cr.profession)  # Derived class inherits class attribute\n",
    "print( cr.position)\n",
    "cr.volley()           # method specific to FootballPlayer class, cannot be called\n",
    "print('----------------')\n",
    "ub.volley()          # Will throw error as 'a' is an Athlete object, does not have volley() method"
   ]
  },
  {
   "cell_type": "markdown",
   "metadata": {},
   "source": [
    "### 5.4.2 Polymorphism\n",
    "Polymorphism is the ability for a derived class to define its own unique behavior and still share the same functionalities as its base class. Let us take the same classes as the previous example, and demonstrate polymorphism through the method `speak()`"
   ]
  },
  {
   "cell_type": "code",
   "execution_count": 177,
   "metadata": {},
   "outputs": [
    {
     "name": "stdout",
     "output_type": "stream",
     "text": [
      "Hi, I am  Roger Federer\n",
      "I am an Athlete\n",
      "----------------\n",
      "Hi, I am  Cristiano Ronaldo\n",
      "I play  Football\n",
      "----------------\n",
      "Hi, I am  Lebron James\n",
      "I am an Athlete\n"
     ]
    }
   ],
   "source": [
    "# Base Class\n",
    "class Athlete:\n",
    "    \n",
    "    profession = 'Athlete'\n",
    "    \n",
    "    def __init__(self, fname, lname):\n",
    "        self.fname = fname\n",
    "        self.lname = lname\n",
    "        \n",
    "    def speak(self):\n",
    "        print('Hi, I am ', self.fname, self.lname)\n",
    "        print('I am an Athlete')\n",
    "        \n",
    "\n",
    "# Derived Class\n",
    "class FootballPlayer(Athlete):\n",
    "    \n",
    "    sport = 'Football'\n",
    "    \n",
    "    def __init__(self, fname, lname, position):\n",
    "        super().__init__(fname, lname)\n",
    "        self.position = position\n",
    "        \n",
    "    def speak(self):\n",
    "        print('Hi, I am ', self.fname, self.lname)\n",
    "        print(\"I play \", self.sport)\n",
    "        \n",
    "class BasketballPlayer(Athlete):\n",
    "    pass\n",
    "        \n",
    "\n",
    "ub = Athlete('Roger', 'Federer')\n",
    "cr = FootballPlayer('Cristiano', 'Ronaldo', 'Striker')\n",
    "lj = BasketballPlayer('Lebron', 'James')\n",
    "\n",
    "ub.speak()            # Base class speak() method\n",
    "print('----------------')\n",
    "cr.speak()            # Derived class speak() method\n",
    "print('----------------')\n",
    "lj.speak()            # Derived class speak() method"
   ]
  },
  {
   "cell_type": "markdown",
   "metadata": {},
   "source": [
    "### 5.4.3 Encapsulation & Abstraction\n",
    "Encapsulation is wrapping up data and member methods/functions together into a single unit (class). It is also to achieve the concept of data hiding and providing security to valuable data by making variables public/private/protected.\n",
    "\n",
    "Abstraction is the process of showing only essential/important features of an object to the outside world. It is an extension of Encapsulation.\n",
    "\n",
    "As we mentioned earlier, by default in python things are public. However, if we want to restrict access to class mehthods and attributes, we can do so using `__` for private and `_` for protected. ***Again, for the purpose of this class you do not need to use Encapsulation.***\n",
    "\n",
    "Here is an example of using private attributes:"
   ]
  },
  {
   "cell_type": "code",
   "execution_count": 179,
   "metadata": {},
   "outputs": [
    {
     "name": "stdout",
     "output_type": "stream",
     "text": [
      "Joe Jonas\n"
     ]
    },
    {
     "ename": "AttributeError",
     "evalue": "'Student' object has no attribute 'age'",
     "output_type": "error",
     "traceback": [
      "\u001b[0;31m---------------------------------------------------------------------------\u001b[0m",
      "\u001b[0;31mAttributeError\u001b[0m                            Traceback (most recent call last)",
      "\u001b[0;32m<ipython-input-179-02be09689938>\u001b[0m in \u001b[0;36m<module>\u001b[0;34m\u001b[0m\n\u001b[1;32m     10\u001b[0m \u001b[0mst\u001b[0m \u001b[0;34m=\u001b[0m \u001b[0mStudent\u001b[0m\u001b[0;34m(\u001b[0m\u001b[0;34m'Joe'\u001b[0m\u001b[0;34m,\u001b[0m \u001b[0;34m'Jonas'\u001b[0m\u001b[0;34m,\u001b[0m \u001b[0;36m22\u001b[0m\u001b[0;34m)\u001b[0m       \u001b[0;31m# Create Student\u001b[0m\u001b[0;34m\u001b[0m\u001b[0;34m\u001b[0m\u001b[0m\n\u001b[1;32m     11\u001b[0m \u001b[0mprint\u001b[0m\u001b[0;34m(\u001b[0m\u001b[0mst\u001b[0m\u001b[0;34m.\u001b[0m\u001b[0mfname\u001b[0m\u001b[0;34m,\u001b[0m \u001b[0mst\u001b[0m\u001b[0;34m.\u001b[0m\u001b[0mlname\u001b[0m\u001b[0;34m)\u001b[0m\u001b[0;34m\u001b[0m\u001b[0;34m\u001b[0m\u001b[0m\n\u001b[0;32m---> 12\u001b[0;31m \u001b[0mprint\u001b[0m\u001b[0;34m(\u001b[0m\u001b[0mst\u001b[0m\u001b[0;34m.\u001b[0m\u001b[0mage\u001b[0m\u001b[0;34m)\u001b[0m                          \u001b[0;31m# Error as age is a private instance attribute\u001b[0m\u001b[0;34m\u001b[0m\u001b[0;34m\u001b[0m\u001b[0m\n\u001b[0m",
      "\u001b[0;31mAttributeError\u001b[0m: 'Student' object has no attribute 'age'"
     ]
    }
   ],
   "source": [
    "class Student:\n",
    "    __school = 'UC Davis'                # private class attribute\n",
    "    \n",
    "    def __init__(self, fname, lname, age):\n",
    "        self.fname = fname\n",
    "        self.lname = lname\n",
    "        self.__age = age                # private instance attribute\n",
    "\n",
    "        \n",
    "st = Student('Joe', 'Jonas', 22)       # Create Student\n",
    "print(st.fname, st.lname)\n",
    "print(st.age)                          # Error as age is a private instance attribute"
   ]
  },
  {
   "cell_type": "markdown",
   "metadata": {},
   "source": [
    "In this scenario, `school` and `age` are private class and instance attributes respectively. In order to have access to them outside the class, we have to use getter (get an attribute) and setter (set an attribute) methods. Let us modify the previous class to add getter and setters for instance attribute `age`. \n",
    "\n",
    "The `property` decorator is used for getter, and `<attribute_name>.setter` for setter. The function definition ***must be the same name as the attribute***(Note: class attribute `school` would be done in the same fashion)"
   ]
  },
  {
   "cell_type": "code",
   "execution_count": 180,
   "metadata": {},
   "outputs": [
    {
     "name": "stdout",
     "output_type": "stream",
     "text": [
      "Joe Jonas\n",
      "22\n"
     ]
    }
   ],
   "source": [
    "class Student(object):\n",
    "    __school = 'UC Davis'\n",
    "    \n",
    "    def __init__(self, fname, lname, age):\n",
    "        self.fname = fname\n",
    "        self.lname = lname\n",
    "        self.__age = age\n",
    "        \n",
    "    # Getter function - using property decorator\n",
    "    @property\n",
    "    def age(self):\n",
    "        return self.__age\n",
    "    \n",
    "    # Setter function\n",
    "    @age.setter\n",
    "    def age(self, age):\n",
    "        self.__age = age\n",
    "        \n",
    "st = Student('Joe', 'Jonas', 22)   # Create Student\n",
    "print(st.fname, st.lname)\n",
    "print(st.age)"
   ]
  },
  {
   "cell_type": "code",
   "execution_count": null,
   "metadata": {},
   "outputs": [],
   "source": []
  }
 ],
 "metadata": {
  "colab": {
   "collapsed_sections": [],
   "name": "Intro2Python.ipynb",
   "provenance": []
  },
  "kernelspec": {
   "display_name": "Python 3 (ipykernel)",
   "language": "python",
   "name": "python3"
  },
  "language_info": {
   "codemirror_mode": {
    "name": "ipython",
    "version": 3
   },
   "file_extension": ".py",
   "mimetype": "text/x-python",
   "name": "python",
   "nbconvert_exporter": "python",
   "pygments_lexer": "ipython3",
   "version": "3.8.13"
  }
 },
 "nbformat": 4,
 "nbformat_minor": 1
}
