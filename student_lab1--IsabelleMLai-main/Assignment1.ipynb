{
 "cells": [
  {
   "cell_type": "markdown",
   "metadata": {},
   "source": [
    "# Assignment 1\n",
    "Before you turn this problem in, make sure everything runs as expected. First, **restart the kernel** (in the menubar, select Kernel$\\rightarrow$Restart) and then **run all cells** (in the menubar, select Cell$\\rightarrow$Run All).\n",
    "\n",
    "You will find the ```Python_tutorial.ipynb``` useful for this assignment.\n",
    "\n",
    "Make sure you fill in any place that says `YOUR CODE HERE` or \"YOUR ANSWER HERE\", as well as your name below:"
   ]
  },
  {
   "cell_type": "code",
   "execution_count": 3,
   "metadata": {},
   "outputs": [],
   "source": [
    "NAME = \"Isabelle Lai\""
   ]
  },
  {
   "cell_type": "markdown",
   "metadata": {},
   "source": [
    "## Part 1: Basic Python\n",
    "Complete the code for the following functions. The questions test your basic Python knowledge. Note that questions are autograded, so you should test the functions on your own to ensure they're correct before submission. You can add further test cases similar to the sample test case provided. \n",
    "\n",
    "### Q1.1 Duplicate Checking (5 points)\n",
    "Write a function to check for duplicate values in a list. If a duplicate exists, return true. If there are no duplicates, return false. Assume all inputs are valid."
   ]
  },
  {
   "cell_type": "code",
   "execution_count": 4,
   "metadata": {},
   "outputs": [],
   "source": [
    "def check_duplicates(arr):\n",
    "    \"\"\"\n",
    "    Checks an array for duplicate elements. Return true\n",
    "    if array has duplicates and false otherwise.\n",
    "    \"\"\"\n",
    "    # YOUR CODE HERE\n",
    "    \n",
    "    length = len(arr)\n",
    "    curr_ind =0\n",
    "    \n",
    "    while curr_ind<length:\n",
    "             #only check the later values since already checked the first letters\n",
    "            oth_let_ind = curr_ind+1\n",
    "            \n",
    "            while oth_let_ind<length:\n",
    "                if arr[curr_ind] == arr[oth_let_ind]:\n",
    "                    return True\n",
    "                oth_let_ind+=1;\n",
    "            \n",
    "            curr_ind+=1\n",
    "    \n",
    "    return False\n",
    "\n",
    "    raise NotImplementedError()"
   ]
  },
  {
   "cell_type": "code",
   "execution_count": 5,
   "metadata": {},
   "outputs": [],
   "source": [
    "assert(check_duplicates([1, 2, 3, 3, 5, 6, 7, 8, 9, 10]) == True)"
   ]
  },
  {
   "cell_type": "markdown",
   "metadata": {},
   "source": [
    "### Q1.2 L2 Norm (5 points)\n",
    "Write a function to compute the L2 Norm for an input array. The L2 norm is computed as the square root of the sum of each value in the array squared."
   ]
  },
  {
   "cell_type": "code",
   "execution_count": 8,
   "metadata": {},
   "outputs": [],
   "source": [
    "import math\n",
    "from math import sqrt\n",
    "def l2_norm(arr):\n",
    "    \"\"\"\n",
    "    Compute the L2 norm for an array of integers. Returns a scalar value.\n",
    "    \"\"\"\n",
    "    # YOUR CODE HERE\n",
    "    \n",
    "    squared_sum = 0\n",
    "    \n",
    "    for x in arr:\n",
    "        squared_sum += x*x\n",
    "    print(squared_sum)\n",
    "    ans = math.sqrt(squared_sum)\n",
    "    return ans\n",
    "    \n",
    "    raise NotImplementedError()"
   ]
  },
  {
   "cell_type": "code",
   "execution_count": 9,
   "metadata": {},
   "outputs": [
    {
     "name": "stdout",
     "output_type": "stream",
     "text": [
      "25\n"
     ]
    }
   ],
   "source": [
    "assert(l2_norm([3, 4]) == 5)"
   ]
  },
  {
   "cell_type": "markdown",
   "metadata": {},
   "source": [
    "### Q1.3 Anagram Checking (5 points)\n",
    "Write a function to check if two input strings are anagrams. Strings are considered anagrams if they both have the same amount of letters."
   ]
  },
  {
   "cell_type": "code",
   "execution_count": 12,
   "metadata": {},
   "outputs": [],
   "source": [
    "def check_anagram(s1, s2):\n",
    "    \"\"\"\n",
    "    Checks whether two strings are anagrams of each other. Return True if strings are anagrams and false otherwise.\n",
    "    \"\"\"\n",
    "    # YOUR CODE HERE\n",
    "    s1_vals = dict()\n",
    "    s2_vals = dict()\n",
    "    \n",
    "    for x in s1:\n",
    "        \n",
    "        s1_vals[x]= s1_vals.get(x, 0)+1\n",
    "        #test_dict['best'] = test_dict.get('best', 0) + 3\n",
    "    for y in s2:\n",
    "        s2_vals[y]= s2_vals.get(y, 0)+1\n",
    "        \n",
    "    if s1_vals == s2_vals:\n",
    "        return True\n",
    "    return False\n",
    "    \n",
    "    \n",
    "    \n",
    "    raise NotImplementedError()"
   ]
  },
  {
   "cell_type": "code",
   "execution_count": 13,
   "metadata": {},
   "outputs": [],
   "source": [
    "assert(check_anagram('tsr', 'rst') == True)"
   ]
  },
  {
   "cell_type": "markdown",
   "metadata": {},
   "source": [
    "## Part 2: Python Classes & OOP\n",
    "The second part of the assignment will test your basic knowledge of Python Classes and OOP. \n",
    "### Q2 Implementing a Queue in Python (15 points)\n",
    "In this assignment, you will complete class `Queue` methods to implement a Queue data structure in Python using Lists. ***You cannot use the Queue library from Python, and you must use List functions to complete this assignment***\n",
    "\n",
    "A Queue is FIFO (First-In, First-Out) data structure that is similar to a List. It works similarly to a queue in real life; when people line up, the first person is served first (FIFO). After that, more people can be added only at the back or rear of the queue. "
   ]
  },
  {
   "cell_type": "code",
   "execution_count": 10,
   "metadata": {},
   "outputs": [],
   "source": [
    "class Queue:\n",
    "    \n",
    "    def __init__(self):\n",
    "        \"\"\"\n",
    "        Initialization\n",
    "        \"\"\"\n",
    "        self.q = []\n",
    "        \n",
    "    def print_q(self):\n",
    "        \"\"\"\n",
    "        Print the Queue. \n",
    "        If the Queue is empty, print 'Queue Empty'\n",
    "        \"\"\"\n",
    "        if len(self.q) <= 0:\n",
    "            print('Queue Empty')\n",
    "        else:\n",
    "            print(self.q)\n",
    "        \n",
    "    def size(self):\n",
    "        \"\"\"\n",
    "        Return the size of the queue (number of items in the queue).\n",
    "        \"\"\"\n",
    "        # YOUR CODE HERE\n",
    "        return len(self.q)\n",
    "    \n",
    "    def empty(self):\n",
    "        \"\"\"\n",
    "        Return True if the queue is empty, False otherwise.\n",
    "        Queue is empty if its size is less than or equal to zero.\n",
    "        \"\"\"\n",
    "        # YOUR CODE HERE\n",
    "        if len(self.q) <= 0:\n",
    "            return True\n",
    "        return False\n",
    "        \n",
    "    def enqueue(self, item):\n",
    "        \"\"\"\n",
    "        Insert @item into the queue. Item is added to the rear.\n",
    "        \"\"\"\n",
    "        # YOUR CODE HERE\n",
    "        self.q.append(item)\n",
    "        \n",
    "    def dequeue(self):\n",
    "        \"\"\"\n",
    "        Remove item from the front of the queue.\n",
    "        If Queue is empty, return False\n",
    "        If Queue is not empty, return the removed item.\n",
    "        \"\"\"\n",
    "        # YOUR CODE HERE\n",
    "        \n",
    "        if len(self.q)<=0:\n",
    "            return False\n",
    "        \n",
    "        item =self.q[0]\n",
    "        self.q.pop(0)\n",
    "        return item\n",
    "        \n",
    "    def item_exists(self, item):\n",
    "        \"\"\"\n",
    "        Check if @item is in the queue. \n",
    "        If @item found, return True, False otherwise\n",
    "        \"\"\"\n",
    "        # YOUR CODE HERE\n",
    "        if item in self.q:\n",
    "            return True\n",
    "        return False\n",
    "         \n",
    "        \n",
    "    def get_first(self):\n",
    "        \"\"\"\n",
    "        Return the item in front the queue\n",
    "        If the Queue is empty, return False\n",
    "        \"\"\"\n",
    "        # YOUR CODE HERE\n",
    "        if len(self.q) <=0:\n",
    "            return False\n",
    "        return self.q[0]\n",
    "        \n",
    "    def get_rear(self):\n",
    "        \"\"\"\n",
    "        Return the item at rear (end) of the queue\n",
    "        If the Queue is empty, return False\n",
    "        \"\"\"\n",
    "        # YOUR CODE HERE\n",
    "        if len(self.q) <=0:\n",
    "            return False\n",
    "        return self.q[len(self.q)-1]\n",
    "    \n",
    "        "
   ]
  },
  {
   "cell_type": "code",
   "execution_count": 11,
   "metadata": {},
   "outputs": [
    {
     "name": "stdout",
     "output_type": "stream",
     "text": [
      "Queue Empty\n"
     ]
    }
   ],
   "source": [
    "myQueue = Queue()  # Create a Queue\n",
    "myQueue.print_q()  # initialized Empty\n",
    "\n",
    "assert(myQueue.size() == 0)\n",
    "assert(myQueue.empty() == True)\n",
    "\n",
    "myQueue.enqueue('one')\n",
    "assert(myQueue.empty() == False)\n",
    "\n",
    "myQueue.enqueue('two')\n",
    "myQueue.enqueue('three')\n",
    "\n",
    "assert(myQueue.item_exists('one') == True)\n",
    "\n",
    "myQueue.dequeue()\n",
    "assert(myQueue.item_exists('one') == False)\n",
    "\n",
    "assert(myQueue.get_rear() == 'three')"
   ]
  },
  {
   "cell_type": "markdown",
   "metadata": {},
   "source": [
    "### Q3  Extending Queue Class (10 points)\n",
    "\n",
    "We will now extend our `Queue` class by creating a child class `Queue_Max` where we will pass a max length or `maxsize` for our queue which cannot be exceeded. \n",
    "\n",
    "With this new `maxsize` addition, we notice most of the functionality of the queue remains the same. \n",
    "We will add a new method to this subclass called `full()` which checks if the queue has reached its max length or not.\n",
    "Only one of the previous methods from the base class `Queue` will need to be rewritten: `enqueue()`. This is because if the Queue is full, we should not be able to enqueue the item. \n",
    "\n",
    "Note: As seen from the Python tutorials, you can still use the parent class functions and instance variables here."
   ]
  },
  {
   "cell_type": "code",
   "execution_count": 18,
   "metadata": {},
   "outputs": [],
   "source": [
    "class Queue_Max(Queue):\n",
    "    \n",
    "    def __init__(self, maxsize=-1):\n",
    "        \"\"\"\n",
    "        Initialization.\n",
    "        maxsize: Number of items allowed in the queue. \n",
    "        If maxsize is less than zero, the queue size is infinite.\n",
    "        \"\"\"\n",
    "        super().__init__()\n",
    "        self.maxsize = maxsize\n",
    "        \n",
    "    def full(self):\n",
    "        \"\"\"\n",
    "        Return True if the queue is full (reached maxsize), False otherwise.\n",
    "        \"\"\"\n",
    "        # YOUR CODE HERE\n",
    "        if len(self.q) >= self.maxsize:\n",
    "            return True\n",
    "        return False\n",
    "        \n",
    "    def enqueue(self, item):\n",
    "        \"\"\"\n",
    "        Insert @item into the queue. Items are added to the rear.\n",
    "        If Queue is not full, insert @item and return True.\n",
    "        If Queue is full, do not insert item and return False.\n",
    "        \"\"\"\n",
    "        # YOUR CODE HERE\n",
    "        if len(self.q) <= self.maxsize:\n",
    "            self.q.append(item)\n",
    "            return True\n",
    "        return False\n",
    "            "
   ]
  },
  {
   "cell_type": "code",
   "execution_count": 19,
   "metadata": {},
   "outputs": [],
   "source": [
    "myMaxQueue = Queue_Max(2)\n",
    "\n",
    "assert(myMaxQueue.full() == False)\n",
    "\n",
    "myMaxQueue.enqueue('one')\n",
    "myMaxQueue.enqueue('two')\n",
    "myMaxQueue.enqueue('three')    # 'three' will not be enqueued as maxsize=2\n",
    "\n",
    "assert(myMaxQueue.full() == True)"
   ]
  },
  {
   "cell_type": "code",
   "execution_count": null,
   "metadata": {},
   "outputs": [],
   "source": []
  },
  {
   "cell_type": "code",
   "execution_count": null,
   "metadata": {},
   "outputs": [],
   "source": []
  }
 ],
 "metadata": {
  "kernelspec": {
   "display_name": "Python 3 (ipykernel)",
   "language": "python",
   "name": "python3"
  },
  "language_info": {
   "codemirror_mode": {
    "name": "ipython",
    "version": 3
   },
   "file_extension": ".py",
   "mimetype": "text/x-python",
   "name": "python",
   "nbconvert_exporter": "python",
   "pygments_lexer": "ipython3",
   "version": "3.8.13"
  }
 },
 "nbformat": 4,
 "nbformat_minor": 4
}
